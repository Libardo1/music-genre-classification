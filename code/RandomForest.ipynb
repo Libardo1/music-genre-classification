{
 "cells": [
  {
   "cell_type": "code",
   "execution_count": 12,
   "metadata": {
    "collapsed": true
   },
   "outputs": [],
   "source": [
    "from anytree import Node, RenderTree\n",
    "from anytree.dotexport import RenderTreeGraph\n",
    "import os.path;\n",
    "import datetime;\n",
    "import time;\n",
    "import pandas;\n",
    "import numpy as np;\n",
    "import ast;\n",
    "import math;\n",
    "import sys;\n",
    "LOG_DIR=\"log\";\n",
    "LOG_IMAGE=LOG_DIR+\"/image\";"
   ]
  },
  {
   "cell_type": "code",
   "execution_count": null,
   "metadata": {
    "collapsed": true
   },
   "outputs": [],
   "source": []
  },
  {
   "cell_type": "code",
   "execution_count": 2,
   "metadata": {
    "collapsed": true
   },
   "outputs": [],
   "source": [
    "def readCSVFile(file):\n",
    "    data=pandas.read_csv(file,\",\",header=0, na_values='?', skipinitialspace=True);\n",
    "    return data;\n",
    "    pass;\n",
    "def readTrainData(dataset):    \n",
    "    return dataset.ix[:,6:], dataset.ix[:,4:5].astype(int),dataset.ix[:,5:6];\n",
    "    pass;\n",
    "\n",
    "def readTestData(dataset):    \n",
    "    return dataset.ix[:,6:], dataset.ix[:,4:5].astype(int),dataset.ix[:,5:6];\n",
    "    pass;\n",
    "\n",
    "def getTimestamp():\n",
    "    ts = datetime.datetime.fromtimestamp(time.time()).strftime('%d-%m-%Y-%H:%M:%S')\n",
    "    return ts;\n",
    "\n",
    "def createDir(self,directory):\n",
    "        if not os.path.exists(directory):\n",
    "            os.makedirs(directory);\n",
    "        pass;\n",
    "    \n",
    "def printPlanerTree(root):\n",
    "    for pre, fill, node in RenderTree(root): \n",
    "        print(\"%s%s\" % (pre, node.name));   \n",
    "    pass;\n",
    "\n",
    "def saveTreeAsPNG(root,filename=None):\n",
    "    if(filename==None):\n",
    "        filename=\"gener_\"+getTimestamp();\n",
    "    RenderTreeGraph(root).to_picture(LOG_IMAGE+\"/\"+filename+\".png\");\n",
    "    print(\"Imaged Saved\")\n",
    "    pass;"
   ]
  },
  {
   "cell_type": "code",
   "execution_count": 3,
   "metadata": {},
   "outputs": [],
   "source": [
    "udo = Node(\"Udo\")\n",
    "marc = Node(\"Marc\", parent=udo)\n",
    "lian = Node(\"Lian\", parent=marc)\n",
    "dan = Node(\"Dan\", parent=udo)\n",
    "jet = Node(\"Jet\", parent=dan)\n",
    "jan = Node(\"Jan\", parent=dan)\n",
    "joe = Node(\"Joe\", parent=dan)"
   ]
  },
  {
   "cell_type": "code",
   "execution_count": 92,
   "metadata": {},
   "outputs": [],
   "source": [
    "# data: all continous data\n",
    "# tree: binary\n",
    "# feature repitation: allowed \n",
    "class DecisionTree():\n",
    "    \n",
    "    dataframe=None;\n",
    "    no_of_class=10;#number of features 0 to k-1\n",
    "    operator={\"less\":-1,\"equal\":0,\"greater\":1};\n",
    "    output_col=None;\n",
    "    features=None;\n",
    "    visited_feature=None;\n",
    "    repetition_allowed=True\n",
    "    minus_infinity=-9999;\n",
    "    detail_log_enabled=False;\n",
    "    logging_enabled=True;\n",
    "    #-----------------------------------------\n",
    "    \n",
    "    def __init__(self,df,output_col):\n",
    "        self.dataframe=df;\n",
    "        self.output_col=output_col;\n",
    "        self.features=list(self.dataframe.columns);\n",
    "        self.features.remove(self.output_col);\n",
    "        self.no_of_features=len(self.features);\n",
    "        self.visited_feature=[];\n",
    "        \n",
    "    #assuming all data is continous\n",
    "    def splitDataset(self,df,feature,value_dic):\n",
    "        val=value_dic[\"val\"];\n",
    "        op=value_dic[\"op\"];        \n",
    "        subsetdf=None;\n",
    "        if(op==self.operator[\"equal\"]):\n",
    "            print(\"Error: Equal not supported\");\n",
    "            subsetdf=None;# no categorical data: Assumption        \n",
    "        elif(op==self.operator[\"less\"]):\n",
    "            subsetdf= df.loc[(df[feature]<=val)];\n",
    "            \n",
    "        elif(op==self.operator[\"greater\"]):\n",
    "            subsetdf= df.loc[(df[feature]>val)];            \n",
    "        \n",
    "        return subsetdf;\n",
    "    \n",
    "    #entropy function\n",
    "    def getEntropy(self,pci):\n",
    "        ent=-1*pci*math.log(pci,2);\n",
    "        return ent;\n",
    "    \n",
    "    #impurity function\n",
    "    def getImpurity(self,pci):        \n",
    "        imp=self.getEntropy(pci);\n",
    "        return imp;\n",
    "    \n",
    "    #Pr(c=i)= (# of c=i)/total\n",
    "    def getPci(self,df,ci):\n",
    "        p=0.0;#probablity\n",
    "        y=df[self.output_col];\n",
    "        total=len(y);\n",
    "        no_of_ci=(y==ci).sum();\n",
    "        p=float(no_of_ci)/total;\n",
    "        return p;\n",
    "        pass;\n",
    "    \n",
    "    #return sum of impurity for all classes\n",
    "    def getNetImpurity(self,df):\n",
    "        e=0;\n",
    "        for i in range(self.no_of_class):\n",
    "            pci=self.getPci(df,i);       \n",
    "            if(pci!=0):\n",
    "                e+=self.getImpurity(pci);            \n",
    "        return e;\n",
    "        pass;\n",
    "    \n",
    "    #feature is continous\n",
    "    def getFeatureVal(self,df,feature):\n",
    "        mean=df[feature].mean();\n",
    "        values=[{\"val\":mean,\"op\":self.operator[\"less\"]},{\"val\":mean,\"op\":self.operator[\"greater\"]}];\n",
    "        return values;\n",
    "        pass;\n",
    "    \n",
    "    def getGain(self,df,feature):\n",
    "        #H(S)\n",
    "        imp_S=self.getNetImpurity(df);\n",
    "        values=self.getFeatureVal(df,feature);\n",
    "        net_Sf=0;\n",
    "        total_row=df[feature].count();        \n",
    "        for val_dic in values:\n",
    "            Sv=self.splitDataset(df,feature,val_dic);                        \n",
    "            len_Sv=Sv[feature].count();\n",
    "            ratio=float(len_Sv)/total_row;                        \n",
    "            imp_Sv=self.getNetImpurity(Sv);\n",
    "            net_Sf+=(ratio*imp_Sv); \n",
    "            if(self.detail_log_enabled):\n",
    "                print(\"------[GAIN\"+features+\"]------------\")\n",
    "                print(\"val:\",val_dic);            \n",
    "                print(Sv);\n",
    "                print(\"len:\",len_Sv);            \n",
    "                print(\"ratio:\",ratio);\n",
    "                print(\"imp_sv:\",imp_Sv); \n",
    "                print(\"net_sf:\",net_Sf)\n",
    "        if(self.detail_log_enabled):\n",
    "            print(\"imp_s:\",imp_S,\" net_sv:\",net_Sf,\"  diff:\",imp_S-net_Sf)\n",
    "        gain=float(imp_S-net_Sf);        \n",
    "        return gain;    \n",
    "        pass;\n",
    "    \n",
    "    #select my maximum gain\n",
    "    def getBestFeature(self,df):\n",
    "        \n",
    "        gain_list=np.zeros(self.no_of_features);\n",
    "        for i in range(self.no_of_features):\n",
    "            f=self.features[i];\n",
    "            if(self.repetition_allowed or (self.repetition_allowed==False and f not in visited_features)):\n",
    "                g=self.getGain(df,f);               \n",
    "            else:\n",
    "                g=self.minus_infinity;\n",
    "            gain_list[i]=g;\n",
    "            self.log(\"Gain_\"+self.features[i]+\":\",g);\n",
    "            \n",
    "        index=gain_list.argmax();       \n",
    "        return self.features[index];\n",
    "        pass;\n",
    "     \n",
    "    def log(self,text,data=None):\n",
    "        if self.logging_enabled:\n",
    "            if(data!=None):\n",
    "                print(text,data);\n",
    "            else:\n",
    "                print(text);\n",
    "        pass;"
   ]
  },
  {
   "cell_type": "code",
   "execution_count": 93,
   "metadata": {},
   "outputs": [
    {
     "data": {
      "text/html": [
       "<div>\n",
       "<table border=\"1\" class=\"dataframe\">\n",
       "  <thead>\n",
       "    <tr style=\"text-align: right;\">\n",
       "      <th></th>\n",
       "      <th>A</th>\n",
       "      <th>B</th>\n",
       "      <th>C</th>\n",
       "      <th>D</th>\n",
       "    </tr>\n",
       "  </thead>\n",
       "  <tbody>\n",
       "    <tr>\n",
       "      <th>0</th>\n",
       "      <td>1</td>\n",
       "      <td>2</td>\n",
       "      <td>3</td>\n",
       "      <td>4</td>\n",
       "    </tr>\n",
       "    <tr>\n",
       "      <th>1</th>\n",
       "      <td>2</td>\n",
       "      <td>6</td>\n",
       "      <td>70</td>\n",
       "      <td>8</td>\n",
       "    </tr>\n",
       "    <tr>\n",
       "      <th>2</th>\n",
       "      <td>2</td>\n",
       "      <td>208</td>\n",
       "      <td>11</td>\n",
       "      <td>12</td>\n",
       "    </tr>\n",
       "    <tr>\n",
       "      <th>3</th>\n",
       "      <td>3</td>\n",
       "      <td>198</td>\n",
       "      <td>15</td>\n",
       "      <td>16</td>\n",
       "    </tr>\n",
       "  </tbody>\n",
       "</table>\n",
       "</div>"
      ],
      "text/plain": [
       "   A    B   C   D\n",
       "0  1    2   3   4\n",
       "1  2    6  70   8\n",
       "2  2  208  11  12\n",
       "3  3  198  15  16"
      ]
     },
     "execution_count": 93,
     "metadata": {},
     "output_type": "execute_result"
    }
   ],
   "source": [
    "arr=np.array([[1,2,3,4],[2,6,70,8],[2,208,11,12],[3,198,15,16]])\n",
    "df = pandas.DataFrame(arr, columns=['A', 'B', 'C', 'D'])\n",
    "df"
   ]
  },
  {
   "cell_type": "code",
   "execution_count": 94,
   "metadata": {},
   "outputs": [
    {
     "ename": "AttributeError",
     "evalue": "DecisionTree instance has no attribute 'log'",
     "output_type": "error",
     "traceback": [
      "\u001b[0;31m---------------------------------------------------------------------------\u001b[0m",
      "\u001b[0;31mAttributeError\u001b[0m                            Traceback (most recent call last)",
      "\u001b[0;32m<ipython-input-94-801e7e08c689>\u001b[0m in \u001b[0;36m<module>\u001b[0;34m()\u001b[0m\n\u001b[1;32m      9\u001b[0m \u001b[0;31m#print(\"Gain:\",g);\u001b[0m\u001b[0;34m\u001b[0m\u001b[0;34m\u001b[0m\u001b[0m\n\u001b[1;32m     10\u001b[0m \u001b[0;31m#print(dt.features);\u001b[0m\u001b[0;34m\u001b[0m\u001b[0;34m\u001b[0m\u001b[0m\n\u001b[0;32m---> 11\u001b[0;31m \u001b[0mf\u001b[0m\u001b[0;34m=\u001b[0m\u001b[0mdt\u001b[0m\u001b[0;34m.\u001b[0m\u001b[0mgetBestFeature\u001b[0m\u001b[0;34m(\u001b[0m\u001b[0mdf\u001b[0m\u001b[0;34m)\u001b[0m\u001b[0;34m;\u001b[0m\u001b[0;34m\u001b[0m\u001b[0m\n\u001b[0m\u001b[1;32m     12\u001b[0m \u001b[0;32mprint\u001b[0m\u001b[0;34m(\u001b[0m\u001b[0mf\u001b[0m\u001b[0;34m)\u001b[0m\u001b[0;34m;\u001b[0m\u001b[0;34m\u001b[0m\u001b[0m\n",
      "\u001b[0;32m<ipython-input-92-b3c8cd3c2010>\u001b[0m in \u001b[0;36mgetBestFeature\u001b[0;34m(self, df)\u001b[0m\n\u001b[1;32m    114\u001b[0m                 \u001b[0mg\u001b[0m\u001b[0;34m=\u001b[0m\u001b[0mself\u001b[0m\u001b[0;34m.\u001b[0m\u001b[0mminus_infinity\u001b[0m\u001b[0;34m;\u001b[0m\u001b[0;34m\u001b[0m\u001b[0m\n\u001b[1;32m    115\u001b[0m             \u001b[0mgain_list\u001b[0m\u001b[0;34m[\u001b[0m\u001b[0mi\u001b[0m\u001b[0;34m]\u001b[0m\u001b[0;34m=\u001b[0m\u001b[0mg\u001b[0m\u001b[0;34m;\u001b[0m\u001b[0;34m\u001b[0m\u001b[0m\n\u001b[0;32m--> 116\u001b[0;31m             \u001b[0mself\u001b[0m\u001b[0;34m.\u001b[0m\u001b[0mlog\u001b[0m\u001b[0;34m(\u001b[0m\u001b[0;34m\"Gain_\"\u001b[0m\u001b[0;34m+\u001b[0m\u001b[0mself\u001b[0m\u001b[0;34m.\u001b[0m\u001b[0mfeatures\u001b[0m\u001b[0;34m[\u001b[0m\u001b[0mi\u001b[0m\u001b[0;34m]\u001b[0m\u001b[0;34m+\u001b[0m\u001b[0;34m\":\"\u001b[0m\u001b[0;34m,\u001b[0m\u001b[0mg\u001b[0m\u001b[0;34m)\u001b[0m\u001b[0;34m;\u001b[0m\u001b[0;34m\u001b[0m\u001b[0m\n\u001b[0m\u001b[1;32m    117\u001b[0m \u001b[0;34m\u001b[0m\u001b[0m\n\u001b[1;32m    118\u001b[0m         \u001b[0mindex\u001b[0m\u001b[0;34m=\u001b[0m\u001b[0mgain_list\u001b[0m\u001b[0;34m.\u001b[0m\u001b[0margmax\u001b[0m\u001b[0;34m(\u001b[0m\u001b[0;34m)\u001b[0m\u001b[0;34m;\u001b[0m\u001b[0;34m\u001b[0m\u001b[0m\n",
      "\u001b[0;31mAttributeError\u001b[0m: DecisionTree instance has no attribute 'log'"
     ]
    }
   ],
   "source": [
    "dt=DecisionTree(df,'A');\n",
    "#pci=dt.getPci(df,5);\n",
    "#print(pci);\n",
    "#e=dt.getNetImpurity(df);\n",
    "#print(e);\n",
    "#val_dic={\"val\":2,\"op\":-1};\n",
    "#dt.getFeatureVal(df,\"B\")\n",
    "#g=dt.getGain(df,\"C\");\n",
    "#print(\"Gain:\",g);\n",
    "#print(dt.features);\n",
    "f=dt.getBestFeature(df);\n",
    "print(f);"
   ]
  },
  {
   "cell_type": "code",
   "execution_count": null,
   "metadata": {
    "collapsed": true
   },
   "outputs": [],
   "source": []
  },
  {
   "cell_type": "code",
   "execution_count": 28,
   "metadata": {},
   "outputs": [
    {
     "name": "stdout",
     "output_type": "stream",
     "text": [
      "('train', (801, 30), 'test', (200, 30))\n"
     ]
    }
   ],
   "source": [
    "dir=\"data/\"\n",
    "trainFile=dir+\"train.csv\";\n",
    "testFile=dir+\"test.csv\";\n",
    "trained_dataset=readCSVFile(trainFile);\n",
    "test_dataset=readCSVFile(testFile);\n",
    "trained_data,trained_y,trained_y_vector=readTrainData(trained_dataset);\n",
    "test_data,test_y,test_y_vector=readTestData(test_dataset);\n",
    "\n",
    "mtx_train =trained_data.as_matrix(columns=None)\n",
    "mtx_train_y  =trained_y.as_matrix(columns=None)\n",
    "mtx_train_y=np.array(list((e[0] for e in mtx_train_y)));\n",
    "\n",
    "mtx_test=test_data.as_matrix(columns=None);\n",
    "mtx_test_y=test_y.as_matrix(columns=None);\n",
    "mtx_test_y=np.array(list((e[0] for e in mtx_test_y)));\n",
    "print(\"train\",np.shape(mtx_train),\"test\",np.shape(mtx_test));"
   ]
  },
  {
   "cell_type": "code",
   "execution_count": 107,
   "metadata": {},
   "outputs": [
    {
     "data": {
      "text/html": [
       "<div>\n",
       "<table border=\"1\" class=\"dataframe\">\n",
       "  <thead>\n",
       "    <tr style=\"text-align: right;\">\n",
       "      <th></th>\n",
       "      <th>A</th>\n",
       "      <th>B</th>\n",
       "      <th>C</th>\n",
       "      <th>D</th>\n",
       "    </tr>\n",
       "  </thead>\n",
       "  <tbody>\n",
       "    <tr>\n",
       "      <th>0</th>\n",
       "      <td>1</td>\n",
       "      <td>2</td>\n",
       "      <td>3</td>\n",
       "      <td>4</td>\n",
       "    </tr>\n",
       "    <tr>\n",
       "      <th>1</th>\n",
       "      <td>5</td>\n",
       "      <td>6</td>\n",
       "      <td>7</td>\n",
       "      <td>8</td>\n",
       "    </tr>\n",
       "    <tr>\n",
       "      <th>2</th>\n",
       "      <td>9</td>\n",
       "      <td>10</td>\n",
       "      <td>11</td>\n",
       "      <td>12</td>\n",
       "    </tr>\n",
       "  </tbody>\n",
       "</table>\n",
       "</div>"
      ],
      "text/plain": [
       "   A   B   C   D\n",
       "0  1   2   3   4\n",
       "1  5   6   7   8\n",
       "2  9  10  11  12"
      ]
     },
     "execution_count": 107,
     "metadata": {},
     "output_type": "execute_result"
    }
   ],
   "source": []
  },
  {
   "cell_type": "code",
   "execution_count": 94,
   "metadata": {},
   "outputs": [
    {
     "data": {
      "text/html": [
       "<div>\n",
       "<table border=\"1\" class=\"dataframe\">\n",
       "  <thead>\n",
       "    <tr style=\"text-align: right;\">\n",
       "      <th></th>\n",
       "      <th>A</th>\n",
       "      <th>B</th>\n",
       "      <th>C</th>\n",
       "      <th>D</th>\n",
       "    </tr>\n",
       "  </thead>\n",
       "  <tbody>\n",
       "    <tr>\n",
       "      <th>0</th>\n",
       "      <td>-0.710662</td>\n",
       "      <td>-0.113527</td>\n",
       "      <td>1.524545</td>\n",
       "      <td>-0.263279</td>\n",
       "    </tr>\n",
       "    <tr>\n",
       "      <th>1</th>\n",
       "      <td>-0.727083</td>\n",
       "      <td>1.654355</td>\n",
       "      <td>0.838445</td>\n",
       "      <td>-0.661696</td>\n",
       "    </tr>\n",
       "    <tr>\n",
       "      <th>2</th>\n",
       "      <td>0.207603</td>\n",
       "      <td>-1.518234</td>\n",
       "      <td>-0.551141</td>\n",
       "      <td>-2.066694</td>\n",
       "    </tr>\n",
       "    <tr>\n",
       "      <th>3</th>\n",
       "      <td>-0.524525</td>\n",
       "      <td>-0.401079</td>\n",
       "      <td>-0.457789</td>\n",
       "      <td>1.326831</td>\n",
       "    </tr>\n",
       "    <tr>\n",
       "      <th>4</th>\n",
       "      <td>-2.989655</td>\n",
       "      <td>-0.531300</td>\n",
       "      <td>0.972248</td>\n",
       "      <td>0.464174</td>\n",
       "    </tr>\n",
       "    <tr>\n",
       "      <th>5</th>\n",
       "      <td>-0.296029</td>\n",
       "      <td>-0.413700</td>\n",
       "      <td>-1.055845</td>\n",
       "      <td>0.031617</td>\n",
       "    </tr>\n",
       "    <tr>\n",
       "      <th>6</th>\n",
       "      <td>0.377020</td>\n",
       "      <td>-0.780109</td>\n",
       "      <td>0.492799</td>\n",
       "      <td>1.166326</td>\n",
       "    </tr>\n",
       "    <tr>\n",
       "      <th>7</th>\n",
       "      <td>0.896400</td>\n",
       "      <td>0.585308</td>\n",
       "      <td>0.019814</td>\n",
       "      <td>1.682619</td>\n",
       "    </tr>\n",
       "  </tbody>\n",
       "</table>\n",
       "</div>"
      ],
      "text/plain": [
       "          A         B         C         D\n",
       "0 -0.710662 -0.113527  1.524545 -0.263279\n",
       "1 -0.727083  1.654355  0.838445 -0.661696\n",
       "2  0.207603 -1.518234 -0.551141 -2.066694\n",
       "3 -0.524525 -0.401079 -0.457789  1.326831\n",
       "4 -2.989655 -0.531300  0.972248  0.464174\n",
       "5 -0.296029 -0.413700 -1.055845  0.031617\n",
       "6  0.377020 -0.780109  0.492799  1.166326\n",
       "7  0.896400  0.585308  0.019814  1.682619"
      ]
     },
     "execution_count": 94,
     "metadata": {},
     "output_type": "execute_result"
    }
   ],
   "source": [
    "df = pandas.DataFrame(np.random.randn(8, 4), columns=['A', 'B', 'C', 'D'])\n",
    "df"
   ]
  },
  {
   "cell_type": "code",
   "execution_count": 148,
   "metadata": {},
   "outputs": [
    {
     "data": {
      "text/plain": [
       "2.0"
      ]
     },
     "execution_count": 148,
     "metadata": {},
     "output_type": "execute_result"
    }
   ],
   "source": [
    "subsetdf= df.loc[(df['A']<10)]\n",
    "subsetdf['A'].mean()"
   ]
  },
  {
   "cell_type": "code",
   "execution_count": 69,
   "metadata": {},
   "outputs": [
    {
     "name": "stdout",
     "output_type": "stream",
     "text": [
      "['B', 'C', 'D']\n"
     ]
    }
   ],
   "source": [
    "a=list(dt.features)\n",
    "a.remove('A')\n",
    "print(a)"
   ]
  },
  {
   "cell_type": "code",
   "execution_count": 64,
   "metadata": {},
   "outputs": [
    {
     "data": {
      "text/plain": [
       "Index([u'A', u'B', u'C', u'D'], dtype='object')"
      ]
     },
     "execution_count": 64,
     "metadata": {},
     "output_type": "execute_result"
    }
   ],
   "source": []
  },
  {
   "cell_type": "code",
   "execution_count": null,
   "metadata": {
    "collapsed": true
   },
   "outputs": [],
   "source": []
  }
 ],
 "metadata": {
  "kernelspec": {
   "display_name": "Python 3",
   "language": "python",
   "name": "python3"
  },
  "language_info": {
   "codemirror_mode": {
    "name": "ipython",
    "version": 2
   },
   "file_extension": ".py",
   "mimetype": "text/x-python",
   "name": "python",
   "nbconvert_exporter": "python",
   "pygments_lexer": "ipython2",
   "version": "2.7.12"
  }
 },
 "nbformat": 4,
 "nbformat_minor": 2
}
